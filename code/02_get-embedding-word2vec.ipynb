{
 "cells": [
  {
   "cell_type": "markdown",
   "metadata": {},
   "source": []
  },
  {
   "cell_type": "code",
   "execution_count": 8,
   "metadata": {},
   "outputs": [
    {
     "name": "stdout",
     "output_type": "stream",
     "text": [
      "ready\n"
     ]
    }
   ],
   "source": [
    "import copy\n",
    "import datetime\n",
    "import math\n",
    "import random\n",
    "import os,sys\n",
    "import json\n",
    "import time\n",
    "import numpy as np\n",
    "print('ready')\n",
    "import fasttext"
   ]
  },
  {
   "cell_type": "code",
   "execution_count": 9,
   "metadata": {},
   "outputs": [],
   "source": [
    "date_start = datetime.datetime(2020, 7, 1, 0)\n",
    "date_end = datetime.datetime(2020, 7, 8, 0)\n",
    "date_start_str = date_start.strftime('%Y-%m-%d-%H')\n",
    "date_end_str = date_end.strftime('%Y-%m-%d-%H')\n",
    "wiki_db = 'wikidata'"
   ]
  },
  {
   "cell_type": "code",
   "execution_count": null,
   "metadata": {},
   "outputs": [],
   "source": [
    "PATH_IN = '../output/sessions/'\n",
    "FILE_train = os.path.join(PATH_IN, 'reading-sessions-actors_%s_%s_%s'%(wiki_db,date_start_str,date_end_str))\n",
    "\n",
    "## check the number of sessions\n",
    "N = 0\n",
    "for line in open(FILE_train):\n",
    "    N+=1\n",
    "N"
   ]
  },
  {
   "cell_type": "code",
   "execution_count": null,
   "metadata": {},
   "outputs": [],
   "source": [
    "## PARAMS: training\n",
    "mode = 'cbow' ## (if 1: skip-gram, else cbow)\n",
    "size = 50 ## number of dimensions\n",
    "window = 5 ## context window size\n",
    "sample = 0.1 ## downsample high-frequency words\n",
    "negative = 10 ##negative sampling (noise words)\n",
    "min_count = 5 ## words with less occurrences in total will be ignored\n",
    "epochs  = 20 ## number of iterations\n",
    "workers = 20 ## number of cores to use"
   ]
  },
  {
   "cell_type": "code",
   "execution_count": 12,
   "metadata": {},
   "outputs": [
    {
     "name": "stdout",
     "output_type": "stream",
     "text": [
      "2597806\n"
     ]
    }
   ],
   "source": [
    "t1 = time.time()\n",
    "model = fasttext.train_unsupervised(\n",
    "    FILE_train, \n",
    "    dim = size, epoch=epochs, model=mode,minCount=min_count,ws=window,neg=negative, t=sample,\n",
    "    thread=workers,\n",
    "    maxn=0 ## no subword\n",
    ")\n",
    "t2 = time.time()\n",
    "print(t2-t1)\n",
    "print(len(model.get_words()))\n"
   ]
  },
  {
   "cell_type": "code",
   "execution_count": 13,
   "metadata": {},
   "outputs": [],
   "source": [
    "## save the model\n",
    "PATH_OUT = '../output/models/'\n",
    "filename_save = os.path.join(\n",
    "    PATH_OUT,\n",
    "    'embedding-w2v_%s_%s_%s_args-%s-%s.bin'%(\n",
    "        wiki_db,date_start_str,date_end_str,\n",
    "        size,min_count\n",
    "    )\n",
    ")\n",
    "model.save_model(filename_save)"
   ]
  },
  {
   "cell_type": "code",
   "execution_count": null,
   "metadata": {},
   "outputs": [],
   "source": []
  }
 ],
 "metadata": {
  "kernelspec": {
   "display_name": "venv_gensim",
   "language": "python",
   "name": "venv_gensim"
  },
  "language_info": {
   "codemirror_mode": {
    "name": "ipython",
    "version": 3
   },
   "file_extension": ".py",
   "mimetype": "text/x-python",
   "name": "python",
   "nbconvert_exporter": "python",
   "pygments_lexer": "ipython3",
   "version": "3.7.3"
  }
 },
 "nbformat": 4,
 "nbformat_minor": 2
}
